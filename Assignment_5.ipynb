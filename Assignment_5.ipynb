{
  "nbformat": 4,
  "nbformat_minor": 0,
  "metadata": {
    "colab": {
      "provenance": []
    },
    "kernelspec": {
      "name": "python3",
      "display_name": "Python 3"
    },
    "language_info": {
      "name": "python"
    }
  },
  "cells": [
    {
      "cell_type": "code",
      "execution_count": null,
      "metadata": {
        "colab": {
          "base_uri": "https://localhost:8080/",
          "height": 74
        },
        "id": "jwqyHc-an_hg",
        "outputId": "1daf1e15-888d-4048-9417-4169266858e8"
      },
      "outputs": [
        {
          "output_type": "display_data",
          "data": {
            "text/plain": [
              "<IPython.core.display.HTML object>"
            ],
            "text/html": [
              "\n",
              "     <input type=\"file\" id=\"files-7ac1b575-21a0-4d5e-9dc9-d6a81d04af9a\" name=\"files[]\" multiple disabled\n",
              "        style=\"border:none\" />\n",
              "     <output id=\"result-7ac1b575-21a0-4d5e-9dc9-d6a81d04af9a\">\n",
              "      Upload widget is only available when the cell has been executed in the\n",
              "      current browser session. Please rerun this cell to enable.\n",
              "      </output>\n",
              "      <script>// Copyright 2017 Google LLC\n",
              "//\n",
              "// Licensed under the Apache License, Version 2.0 (the \"License\");\n",
              "// you may not use this file except in compliance with the License.\n",
              "// You may obtain a copy of the License at\n",
              "//\n",
              "//      http://www.apache.org/licenses/LICENSE-2.0\n",
              "//\n",
              "// Unless required by applicable law or agreed to in writing, software\n",
              "// distributed under the License is distributed on an \"AS IS\" BASIS,\n",
              "// WITHOUT WARRANTIES OR CONDITIONS OF ANY KIND, either express or implied.\n",
              "// See the License for the specific language governing permissions and\n",
              "// limitations under the License.\n",
              "\n",
              "/**\n",
              " * @fileoverview Helpers for google.colab Python module.\n",
              " */\n",
              "(function(scope) {\n",
              "function span(text, styleAttributes = {}) {\n",
              "  const element = document.createElement('span');\n",
              "  element.textContent = text;\n",
              "  for (const key of Object.keys(styleAttributes)) {\n",
              "    element.style[key] = styleAttributes[key];\n",
              "  }\n",
              "  return element;\n",
              "}\n",
              "\n",
              "// Max number of bytes which will be uploaded at a time.\n",
              "const MAX_PAYLOAD_SIZE = 100 * 1024;\n",
              "\n",
              "function _uploadFiles(inputId, outputId) {\n",
              "  const steps = uploadFilesStep(inputId, outputId);\n",
              "  const outputElement = document.getElementById(outputId);\n",
              "  // Cache steps on the outputElement to make it available for the next call\n",
              "  // to uploadFilesContinue from Python.\n",
              "  outputElement.steps = steps;\n",
              "\n",
              "  return _uploadFilesContinue(outputId);\n",
              "}\n",
              "\n",
              "// This is roughly an async generator (not supported in the browser yet),\n",
              "// where there are multiple asynchronous steps and the Python side is going\n",
              "// to poll for completion of each step.\n",
              "// This uses a Promise to block the python side on completion of each step,\n",
              "// then passes the result of the previous step as the input to the next step.\n",
              "function _uploadFilesContinue(outputId) {\n",
              "  const outputElement = document.getElementById(outputId);\n",
              "  const steps = outputElement.steps;\n",
              "\n",
              "  const next = steps.next(outputElement.lastPromiseValue);\n",
              "  return Promise.resolve(next.value.promise).then((value) => {\n",
              "    // Cache the last promise value to make it available to the next\n",
              "    // step of the generator.\n",
              "    outputElement.lastPromiseValue = value;\n",
              "    return next.value.response;\n",
              "  });\n",
              "}\n",
              "\n",
              "/**\n",
              " * Generator function which is called between each async step of the upload\n",
              " * process.\n",
              " * @param {string} inputId Element ID of the input file picker element.\n",
              " * @param {string} outputId Element ID of the output display.\n",
              " * @return {!Iterable<!Object>} Iterable of next steps.\n",
              " */\n",
              "function* uploadFilesStep(inputId, outputId) {\n",
              "  const inputElement = document.getElementById(inputId);\n",
              "  inputElement.disabled = false;\n",
              "\n",
              "  const outputElement = document.getElementById(outputId);\n",
              "  outputElement.innerHTML = '';\n",
              "\n",
              "  const pickedPromise = new Promise((resolve) => {\n",
              "    inputElement.addEventListener('change', (e) => {\n",
              "      resolve(e.target.files);\n",
              "    });\n",
              "  });\n",
              "\n",
              "  const cancel = document.createElement('button');\n",
              "  inputElement.parentElement.appendChild(cancel);\n",
              "  cancel.textContent = 'Cancel upload';\n",
              "  const cancelPromise = new Promise((resolve) => {\n",
              "    cancel.onclick = () => {\n",
              "      resolve(null);\n",
              "    };\n",
              "  });\n",
              "\n",
              "  // Wait for the user to pick the files.\n",
              "  const files = yield {\n",
              "    promise: Promise.race([pickedPromise, cancelPromise]),\n",
              "    response: {\n",
              "      action: 'starting',\n",
              "    }\n",
              "  };\n",
              "\n",
              "  cancel.remove();\n",
              "\n",
              "  // Disable the input element since further picks are not allowed.\n",
              "  inputElement.disabled = true;\n",
              "\n",
              "  if (!files) {\n",
              "    return {\n",
              "      response: {\n",
              "        action: 'complete',\n",
              "      }\n",
              "    };\n",
              "  }\n",
              "\n",
              "  for (const file of files) {\n",
              "    const li = document.createElement('li');\n",
              "    li.append(span(file.name, {fontWeight: 'bold'}));\n",
              "    li.append(span(\n",
              "        `(${file.type || 'n/a'}) - ${file.size} bytes, ` +\n",
              "        `last modified: ${\n",
              "            file.lastModifiedDate ? file.lastModifiedDate.toLocaleDateString() :\n",
              "                                    'n/a'} - `));\n",
              "    const percent = span('0% done');\n",
              "    li.appendChild(percent);\n",
              "\n",
              "    outputElement.appendChild(li);\n",
              "\n",
              "    const fileDataPromise = new Promise((resolve) => {\n",
              "      const reader = new FileReader();\n",
              "      reader.onload = (e) => {\n",
              "        resolve(e.target.result);\n",
              "      };\n",
              "      reader.readAsArrayBuffer(file);\n",
              "    });\n",
              "    // Wait for the data to be ready.\n",
              "    let fileData = yield {\n",
              "      promise: fileDataPromise,\n",
              "      response: {\n",
              "        action: 'continue',\n",
              "      }\n",
              "    };\n",
              "\n",
              "    // Use a chunked sending to avoid message size limits. See b/62115660.\n",
              "    let position = 0;\n",
              "    do {\n",
              "      const length = Math.min(fileData.byteLength - position, MAX_PAYLOAD_SIZE);\n",
              "      const chunk = new Uint8Array(fileData, position, length);\n",
              "      position += length;\n",
              "\n",
              "      const base64 = btoa(String.fromCharCode.apply(null, chunk));\n",
              "      yield {\n",
              "        response: {\n",
              "          action: 'append',\n",
              "          file: file.name,\n",
              "          data: base64,\n",
              "        },\n",
              "      };\n",
              "\n",
              "      let percentDone = fileData.byteLength === 0 ?\n",
              "          100 :\n",
              "          Math.round((position / fileData.byteLength) * 100);\n",
              "      percent.textContent = `${percentDone}% done`;\n",
              "\n",
              "    } while (position < fileData.byteLength);\n",
              "  }\n",
              "\n",
              "  // All done.\n",
              "  yield {\n",
              "    response: {\n",
              "      action: 'complete',\n",
              "    }\n",
              "  };\n",
              "}\n",
              "\n",
              "scope.google = scope.google || {};\n",
              "scope.google.colab = scope.google.colab || {};\n",
              "scope.google.colab._files = {\n",
              "  _uploadFiles,\n",
              "  _uploadFilesContinue,\n",
              "};\n",
              "})(self);\n",
              "</script> "
            ]
          },
          "metadata": {}
        },
        {
          "output_type": "stream",
          "name": "stdout",
          "text": [
            "Saving Sentiment.csv to Sentiment.csv\n"
          ]
        }
      ],
      "source": [
        "from google.colab import files\n",
        "uploaded = files.upload()"
      ]
    },
    {
      "cell_type": "code",
      "source": [
        "import pandas as pd #Basic packages for creating dataframes and loading dataset\n",
        "import numpy as np\n",
        "\n",
        "import matplotlib.pyplot as plt #Package for visualization\n",
        "\n",
        "import re #importing package for Regular expression operations\n",
        "\n",
        "from sklearn.model_selection import train_test_split #Package for splitting the data\n",
        "\n",
        "from sklearn.preprocessing import LabelEncoder #Package for conversion of categorical to Numerical\n",
        "\n",
        "from keras.preprocessing.text import Tokenizer #Tokenization\n",
        "from tensorflow.keras.preprocessing.sequence import pad_sequences #Add zeros or crop based on the length\n",
        "from keras.models import Sequential #Sequential Neural Network\n",
        "from keras.layers import Dense, Embedding, LSTM, SpatialDropout1D #For layers in Neural Network\n",
        "from keras.utils.np_utils import to_categorical"
      ],
      "metadata": {
        "id": "nHfoEgevqN0u"
      },
      "execution_count": null,
      "outputs": []
    },
    {
      "cell_type": "code",
      "source": [
        "import pandas as pd\n",
        "\n",
        "# Load the dataset as a Pandas DataFrame\n",
        "dataset = pd.read_csv('Sentiment.csv', header=0)\n",
        "\n",
        "# Select only the necessary columns 'text' and 'sentiment'\n",
        "mask = dataset.columns.isin(['text', 'sentiment'])\n",
        "data = dataset.loc[:, mask]\n",
        "\n",
        "# Keeping only the necessary columns"
      ],
      "metadata": {
        "id": "4M2dmUN1qUrF"
      },
      "execution_count": null,
      "outputs": []
    },
    {
      "cell_type": "code",
      "source": [
        "data['text'] = data['text'].apply(lambda x: x.lower())\n",
        "data['text'] = data['text'].apply((lambda x: re.sub('[^a-zA-z0-9\\s]', '', x)))"
      ],
      "metadata": {
        "colab": {
          "base_uri": "https://localhost:8080/"
        },
        "id": "4UU-640OqbZg",
        "outputId": "10b1ebb6-5088-469a-af19-1b93eb8e1326"
      },
      "execution_count": null,
      "outputs": [
        {
          "output_type": "stream",
          "name": "stderr",
          "text": [
            "<ipython-input-11-cee1da567eb8>:1: SettingWithCopyWarning: \n",
            "A value is trying to be set on a copy of a slice from a DataFrame.\n",
            "Try using .loc[row_indexer,col_indexer] = value instead\n",
            "\n",
            "See the caveats in the documentation: https://pandas.pydata.org/pandas-docs/stable/user_guide/indexing.html#returning-a-view-versus-a-copy\n",
            "  data['text'] = data['text'].apply(lambda x: x.lower())\n",
            "<ipython-input-11-cee1da567eb8>:2: SettingWithCopyWarning: \n",
            "A value is trying to be set on a copy of a slice from a DataFrame.\n",
            "Try using .loc[row_indexer,col_indexer] = value instead\n",
            "\n",
            "See the caveats in the documentation: https://pandas.pydata.org/pandas-docs/stable/user_guide/indexing.html#returning-a-view-versus-a-copy\n",
            "  data['text'] = data['text'].apply((lambda x: re.sub('[^a-zA-z0-9\\s]', '', x)))\n"
          ]
        }
      ]
    },
    {
      "cell_type": "code",
      "source": [
        "for idx, row in data.iterrows():\n",
        "    row[0] = row[0].replace('rt', ' ') #Removing Retweets"
      ],
      "metadata": {
        "id": "eF3re2oIqc_4"
      },
      "execution_count": null,
      "outputs": []
    },
    {
      "cell_type": "code",
      "source": [
        "max_fatures = 2000\n",
        "tokenizer = Tokenizer(num_words=max_fatures, split=' ') #Maximum words is 2000 to tokenize sentence\n",
        "tokenizer.fit_on_texts(data['text'].values)\n",
        "X = tokenizer.texts_to_sequences(data['text'].values) #taking values to feature matrix\n"
      ],
      "metadata": {
        "id": "HVtaH-8tqgFh"
      },
      "execution_count": null,
      "outputs": []
    },
    {
      "cell_type": "code",
      "source": [
        "X = pad_sequences(X) #Padding the feature matrix\n",
        "\n",
        "embed_dim = 128 #Dimension of the Embedded layer\n",
        "lstm_out = 196 #Long short-term memory (LSTM) layer neurons"
      ],
      "metadata": {
        "id": "39hWjyNeqr5b"
      },
      "execution_count": null,
      "outputs": []
    },
    {
      "cell_type": "markdown",
      "source": [],
      "metadata": {
        "id": "R9Fo0KFPu-6p"
      }
    },
    {
      "cell_type": "code",
      "source": [
        "def createmodel():\n",
        "    model = Sequential() #Sequential Neural Network\n",
        "    model.add(Embedding(max_fatures, embed_dim,input_length = X.shape[1])) #input dimension 2000 Neurons, output dimension 128 Neurons\n",
        "    model.add(LSTM(lstm_out, dropout=0.2, recurrent_dropout=0.2)) #Drop out 20%, 196 output Neurons, recurrent dropout 20%\n",
        "    model.add(Dense(3,activation='softmax')) #3 output neurons[positive, Neutral, Negative], softmax as activation\n",
        "    model.compile(loss = 'categorical_crossentropy', optimizer='adam',metrics = ['accuracy']) #Compiling the model\n",
        "    return model\n",
        "# print(model.summary())"
      ],
      "metadata": {
        "id": "HQcMfwanqwyQ"
      },
      "execution_count": null,
      "outputs": []
    },
    {
      "cell_type": "code",
      "source": [
        "labelencoder = LabelEncoder() #Applying label Encoding on the label matrix\n",
        "integer_encoded = labelencoder.fit_transform(data['sentiment']) #fitting the model\n",
        "y = to_categorical(integer_encoded)\n",
        "X_train, X_test, Y_train, Y_test = train_test_split(X,y, test_size = 0.33, random_state = 42) #67% training data, 33% test data split"
      ],
      "metadata": {
        "id": "ttuLsQvgq2QA"
      },
      "execution_count": null,
      "outputs": []
    },
    {
      "cell_type": "code",
      "source": [
        "batch_size = 32 #Batch size 32\n",
        "model = createmodel() #Function call to Sequential Neural Network\n",
        "model.fit(X_train, Y_train, epochs = 1, batch_size=batch_size, verbose = 2) #verbose the higher, the more messages\n",
        "score,acc = model.evaluate(X_test,Y_test,verbose=2,batch_size=batch_size) #evaluating the model\n",
        "print(score)\n",
        "print(acc)"
      ],
      "metadata": {
        "colab": {
          "base_uri": "https://localhost:8080/"
        },
        "id": "aQqoAzxzq5cC",
        "outputId": "e5b62bb4-42b2-4480-8104-1bf487e4c1f8"
      },
      "execution_count": null,
      "outputs": [
        {
          "output_type": "stream",
          "name": "stdout",
          "text": [
            "291/291 - 30s - loss: 0.8239 - accuracy: 0.6427 - 30s/epoch - 103ms/step\n",
            "144/144 - 2s - loss: 0.7883 - accuracy: 0.6664 - 2s/epoch - 13ms/step\n",
            "0.7882710099220276\n",
            "0.6664482355117798\n"
          ]
        }
      ]
    },
    {
      "cell_type": "code",
      "source": [
        "print(model.metrics_names) #metrics of the model"
      ],
      "metadata": {
        "colab": {
          "base_uri": "https://localhost:8080/"
        },
        "id": "0ALN_OtRrH8w",
        "outputId": "69052cc1-cffb-4ea2-cf01-ebc06915819f"
      },
      "execution_count": null,
      "outputs": [
        {
          "output_type": "stream",
          "name": "stdout",
          "text": [
            "['loss', 'accuracy']\n"
          ]
        }
      ]
    },
    {
      "cell_type": "markdown",
      "source": [
        "1. Save the model and use the saved model to predict on new text data (ex, “A lot of good things are happening. We are respected again throughout the world, and that's a great thing.@realDonaldTrump”)"
      ],
      "metadata": {
        "id": "WRAgQoxhrOEz"
      }
    },
    {
      "cell_type": "code",
      "source": [
        "model.save('sentimentAnalysis.h5') #Saving the model"
      ],
      "metadata": {
        "id": "4HjZgQQjrPk6"
      },
      "execution_count": null,
      "outputs": []
    },
    {
      "cell_type": "code",
      "source": [
        "from keras.models import load_model #Importing the package for importing the saved model\n",
        "model= load_model('sentimentAnalysis.h5') #loading the saved model"
      ],
      "metadata": {
        "id": "ACHGcyL5rXId"
      },
      "execution_count": null,
      "outputs": []
    },
    {
      "cell_type": "code",
      "source": [
        "print(integer_encoded)\n",
        "print(data['sentiment'])"
      ],
      "metadata": {
        "colab": {
          "base_uri": "https://localhost:8080/"
        },
        "id": "GdGRMNqCrYt1",
        "outputId": "4e4f1aef-87a8-4caf-a5dd-da69af572f86"
      },
      "execution_count": null,
      "outputs": [
        {
          "output_type": "stream",
          "name": "stdout",
          "text": [
            "[1 2 1 ... 2 0 2]\n",
            "0         Neutral\n",
            "1        Positive\n",
            "2         Neutral\n",
            "3        Positive\n",
            "4        Positive\n",
            "           ...   \n",
            "13866    Negative\n",
            "13867    Positive\n",
            "13868    Positive\n",
            "13869    Negative\n",
            "13870    Positive\n",
            "Name: sentiment, Length: 13871, dtype: object\n"
          ]
        }
      ]
    },
    {
      "cell_type": "code",
      "source": [
        "# Predicting on the text data\n",
        "sentence = ['A lot of good things are happening. We are respected again throughout the world, and that is a great thing.@realDonaldTrump']\n",
        "sentence = tokenizer.texts_to_sequences(sentence) # Tokenizing the sentence\n",
        "sentence = pad_sequences(sentence, maxlen=28, dtype='int32', value=0) # Padding the sentence\n",
        "sentiment_probs = model.predict(sentence, batch_size=1, verbose=2)[0] # Predicting the sentence text\n",
        "sentiment = np.argmax(sentiment_probs)\n",
        "\n",
        "print(sentiment_probs)\n",
        "if sentiment == 0:\n",
        "    print(\"Neutral\")\n",
        "elif sentiment < 0:\n",
        "    print(\"Negative\")\n",
        "elif sentiment > 0:\n",
        "    print(\"Positive\")\n",
        "else:\n",
        "    print(\"Cannot be determined\")\n"
      ],
      "metadata": {
        "colab": {
          "base_uri": "https://localhost:8080/"
        },
        "id": "cDr8P9GqreqX",
        "outputId": "398d8f6f-df9c-49b9-8b53-3dfc90a1cb4e"
      },
      "execution_count": null,
      "outputs": [
        {
          "output_type": "stream",
          "name": "stdout",
          "text": [
            "1/1 - 0s - 208ms/epoch - 208ms/step\n",
            "[0.35851586 0.20229419 0.4391899 ]\n",
            "Positive\n"
          ]
        }
      ]
    },
    {
      "cell_type": "markdown",
      "source": [
        "2. Apply GridSearchCV on the source code provided in the class"
      ],
      "metadata": {
        "id": "-c57_S0rriWM"
      }
    },
    {
      "cell_type": "code",
      "source": [
        "from keras.wrappers.scikit_learn import KerasClassifier #importing Keras classifier\n",
        "from sklearn.model_selection import GridSearchCV #importing Grid search CV\n",
        "\n",
        "model = KerasClassifier(build_fn=createmodel,verbose=2) #initiating model to test performance by applying multiple hyper parameters\n",
        "batch_size= [10, 20, 40] #hyper parameter batch_size\n",
        "epochs = [1, 2] #hyper parameter no. of epochs\n",
        "param_grid= {'batch_size':batch_size, 'epochs':epochs} #creating dictionary for batch size, no. of epochs\n",
        "grid  = GridSearchCV(estimator=model, param_grid=param_grid) #Applying dictionary with hyper parameters\n",
        "grid_result= grid.fit(X_train,Y_train) #Fitting the model\n",
        "# summarize results\n",
        "print(\"Best: %f using %s\" % (grid_result.best_score_, grid_result.best_params_)) #best score, best hyper parameters"
      ],
      "metadata": {
        "colab": {
          "base_uri": "https://localhost:8080/"
        },
        "id": "5s3W8ziErn4n",
        "outputId": "5d7af8de-89d9-401c-f5a1-03dab9640163"
      },
      "execution_count": null,
      "outputs": [
        {
          "metadata": {
            "tags": null
          },
          "name": "stderr",
          "output_type": "stream",
          "text": [
            "<ipython-input-23-6c99b49150f4>:4: DeprecationWarning: KerasClassifier is deprecated, use Sci-Keras (https://github.com/adriangb/scikeras) instead. See https://www.adriangb.com/scikeras/stable/migration.html for help migrating.\n",
            "  model = KerasClassifier(build_fn=createmodel,verbose=2) #initiating model to test performance by applying multiple hyper parameters\n"
          ]
        },
        {
          "output_type": "stream",
          "name": "stdout",
          "text": [
            "744/744 - 62s - loss: 0.8272 - accuracy: 0.6499 - 62s/epoch - 84ms/step\n",
            "186/186 - 2s - loss: 0.7691 - accuracy: 0.6579 - 2s/epoch - 12ms/step\n",
            "744/744 - 58s - loss: 0.8259 - accuracy: 0.6461 - 58s/epoch - 78ms/step\n",
            "186/186 - 2s - loss: 0.7640 - accuracy: 0.6686 - 2s/epoch - 8ms/step\n",
            "744/744 - 59s - loss: 0.8236 - accuracy: 0.6462 - 59s/epoch - 79ms/step\n",
            "186/186 - 2s - loss: 0.7547 - accuracy: 0.6837 - 2s/epoch - 8ms/step\n",
            "744/744 - 58s - loss: 0.8276 - accuracy: 0.6461 - 58s/epoch - 78ms/step\n",
            "186/186 - 1s - loss: 0.7582 - accuracy: 0.6781 - 1s/epoch - 8ms/step\n",
            "744/744 - 58s - loss: 0.8177 - accuracy: 0.6455 - 58s/epoch - 78ms/step\n",
            "186/186 - 2s - loss: 0.7738 - accuracy: 0.6755 - 2s/epoch - 8ms/step\n",
            "Epoch 1/2\n",
            "744/744 - 59s - loss: 0.8281 - accuracy: 0.6466 - 59s/epoch - 79ms/step\n",
            "Epoch 2/2\n",
            "744/744 - 56s - loss: 0.6797 - accuracy: 0.7131 - 56s/epoch - 75ms/step\n",
            "186/186 - 2s - loss: 0.7378 - accuracy: 0.6853 - 2s/epoch - 12ms/step\n",
            "Epoch 1/2\n",
            "744/744 - 58s - loss: 0.8147 - accuracy: 0.6488 - 58s/epoch - 78ms/step\n",
            "Epoch 2/2\n",
            "744/744 - 56s - loss: 0.6737 - accuracy: 0.7116 - 56s/epoch - 75ms/step\n",
            "186/186 - 2s - loss: 0.7313 - accuracy: 0.6805 - 2s/epoch - 8ms/step\n",
            "Epoch 1/2\n",
            "744/744 - 58s - loss: 0.8239 - accuracy: 0.6461 - 58s/epoch - 78ms/step\n",
            "Epoch 2/2\n",
            "744/744 - 56s - loss: 0.6730 - accuracy: 0.7163 - 56s/epoch - 75ms/step\n",
            "186/186 - 2s - loss: 0.7793 - accuracy: 0.6842 - 2s/epoch - 9ms/step\n",
            "Epoch 1/2\n",
            "744/744 - 58s - loss: 0.8303 - accuracy: 0.6432 - 58s/epoch - 78ms/step\n",
            "Epoch 2/2\n",
            "744/744 - 56s - loss: 0.6760 - accuracy: 0.7159 - 56s/epoch - 75ms/step\n",
            "186/186 - 1s - loss: 0.7581 - accuracy: 0.6771 - 1s/epoch - 8ms/step\n",
            "Epoch 1/2\n",
            "744/744 - 60s - loss: 0.8196 - accuracy: 0.6487 - 60s/epoch - 80ms/step\n",
            "Epoch 2/2\n",
            "744/744 - 56s - loss: 0.6695 - accuracy: 0.7111 - 56s/epoch - 76ms/step\n",
            "186/186 - 2s - loss: 0.7685 - accuracy: 0.6695 - 2s/epoch - 8ms/step\n",
            "372/372 - 33s - loss: 0.8272 - accuracy: 0.6481 - 33s/epoch - 89ms/step\n",
            "93/93 - 1s - loss: 0.7470 - accuracy: 0.6590 - 1s/epoch - 12ms/step\n",
            "372/372 - 34s - loss: 0.8307 - accuracy: 0.6431 - 34s/epoch - 90ms/step\n",
            "93/93 - 1s - loss: 0.7806 - accuracy: 0.6638 - 1s/epoch - 12ms/step\n",
            "372/372 - 33s - loss: 0.8275 - accuracy: 0.6380 - 33s/epoch - 89ms/step\n",
            "93/93 - 1s - loss: 0.7625 - accuracy: 0.6762 - 1s/epoch - 12ms/step\n",
            "372/372 - 32s - loss: 0.8330 - accuracy: 0.6379 - 32s/epoch - 87ms/step\n",
            "93/93 - 2s - loss: 0.7431 - accuracy: 0.6685 - 2s/epoch - 19ms/step\n",
            "372/372 - 32s - loss: 0.8306 - accuracy: 0.6438 - 32s/epoch - 87ms/step\n",
            "93/93 - 2s - loss: 0.7863 - accuracy: 0.6679 - 2s/epoch - 20ms/step\n",
            "Epoch 1/2\n",
            "372/372 - 32s - loss: 0.8352 - accuracy: 0.6423 - 32s/epoch - 85ms/step\n",
            "Epoch 2/2\n",
            "372/372 - 30s - loss: 0.6851 - accuracy: 0.7113 - 30s/epoch - 81ms/step\n",
            "93/93 - 1s - loss: 0.7282 - accuracy: 0.6907 - 1s/epoch - 12ms/step\n",
            "Epoch 1/2\n",
            "372/372 - 32s - loss: 0.8294 - accuracy: 0.6445 - 32s/epoch - 86ms/step\n",
            "Epoch 2/2\n",
            "372/372 - 30s - loss: 0.6798 - accuracy: 0.7115 - 30s/epoch - 81ms/step\n",
            "93/93 - 1s - loss: 0.7521 - accuracy: 0.6735 - 1s/epoch - 12ms/step\n",
            "Epoch 1/2\n",
            "372/372 - 32s - loss: 0.8321 - accuracy: 0.6395 - 32s/epoch - 87ms/step\n",
            "Epoch 2/2\n",
            "372/372 - 30s - loss: 0.6811 - accuracy: 0.7150 - 30s/epoch - 81ms/step\n",
            "93/93 - 1s - loss: 0.7655 - accuracy: 0.6756 - 1s/epoch - 12ms/step\n",
            "Epoch 1/2\n",
            "372/372 - 33s - loss: 0.8381 - accuracy: 0.6393 - 33s/epoch - 89ms/step\n",
            "Epoch 2/2\n",
            "372/372 - 30s - loss: 0.6854 - accuracy: 0.7038 - 30s/epoch - 82ms/step\n",
            "93/93 - 1s - loss: 0.7581 - accuracy: 0.6706 - 1s/epoch - 13ms/step\n",
            "Epoch 1/2\n",
            "372/372 - 32s - loss: 0.8219 - accuracy: 0.6429 - 32s/epoch - 86ms/step\n",
            "Epoch 2/2\n",
            "372/372 - 29s - loss: 0.6647 - accuracy: 0.7141 - 29s/epoch - 79ms/step\n",
            "93/93 - 1s - loss: 0.7806 - accuracy: 0.6609 - 1s/epoch - 12ms/step\n",
            "186/186 - 20s - loss: 0.8551 - accuracy: 0.6324 - 20s/epoch - 110ms/step\n",
            "47/47 - 1s - loss: 0.7533 - accuracy: 0.6547 - 873ms/epoch - 19ms/step\n",
            "186/186 - 21s - loss: 0.8456 - accuracy: 0.6360 - 21s/epoch - 111ms/step\n",
            "47/47 - 1s - loss: 0.7974 - accuracy: 0.6536 - 865ms/epoch - 18ms/step\n",
            "186/186 - 20s - loss: 0.8413 - accuracy: 0.6363 - 20s/epoch - 110ms/step\n",
            "47/47 - 1s - loss: 0.7550 - accuracy: 0.6746 - 843ms/epoch - 18ms/step\n",
            "186/186 - 20s - loss: 0.8448 - accuracy: 0.6312 - 20s/epoch - 110ms/step\n",
            "47/47 - 1s - loss: 0.7484 - accuracy: 0.6722 - 1s/epoch - 25ms/step\n",
            "186/186 - 21s - loss: 0.8339 - accuracy: 0.6408 - 21s/epoch - 115ms/step\n",
            "47/47 - 1s - loss: 0.7727 - accuracy: 0.6663 - 916ms/epoch - 19ms/step\n",
            "Epoch 1/2\n",
            "186/186 - 20s - loss: 0.8493 - accuracy: 0.6390 - 20s/epoch - 109ms/step\n",
            "Epoch 2/2\n",
            "186/186 - 19s - loss: 0.6879 - accuracy: 0.7039 - 19s/epoch - 101ms/step\n",
            "47/47 - 1s - loss: 0.7213 - accuracy: 0.6864 - 965ms/epoch - 21ms/step\n",
            "Epoch 1/2\n",
            "186/186 - 20s - loss: 0.8376 - accuracy: 0.6394 - 20s/epoch - 109ms/step\n",
            "Epoch 2/2\n"
          ]
        }
      ]
    }
  ]
}